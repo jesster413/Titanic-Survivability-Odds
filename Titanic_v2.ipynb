{
 "cells": [
  {
   "cell_type": "code",
   "execution_count": 1,
   "metadata": {},
   "outputs": [],
   "source": [
    "# Import Packages\n",
    "\n",
    "import plotly\n",
    "import plotly.plotly as py\n",
    "import plotly.graph_objs as go\n",
    "plotly.tools.set_credentials_file(username='jesster413', api_key='MiguiqmZJezmtiHQdEzg')\n",
    "\n",
    "import pandas as pd\n",
    "import numpy as np\n",
    "\n",
    "import matplotlib.pyplot as plt\n",
    "import seaborn as sns\n",
    "\n",
    "plt.style.use('fivethirtyeight')\n",
    "\n",
    "%config InlineBackend.figure_format = 'retina'\n",
    "%matplotlib inline"
   ]
  },
  {
   "cell_type": "code",
   "execution_count": 2,
   "metadata": {},
   "outputs": [],
   "source": [
    "# 1. Get Data\n",
    "\n",
    "train = pd.read_csv('./train.csv')"
   ]
  },
  {
   "cell_type": "code",
   "execution_count": 3,
   "metadata": {},
   "outputs": [
    {
     "name": "stdout",
     "output_type": "stream",
     "text": [
      " Shape of Data Set: (891, 12)\n",
      "<class 'pandas.core.frame.DataFrame'>\n",
      "RangeIndex: 891 entries, 0 to 890\n",
      "Data columns (total 12 columns):\n",
      "PassengerId    891 non-null int64\n",
      "Survived       891 non-null int64\n",
      "Pclass         891 non-null int64\n",
      "Name           891 non-null object\n",
      "Sex            891 non-null object\n",
      "Age            714 non-null float64\n",
      "SibSp          891 non-null int64\n",
      "Parch          891 non-null int64\n",
      "Ticket         891 non-null object\n",
      "Fare           891 non-null float64\n",
      "Cabin          204 non-null object\n",
      "Embarked       889 non-null object\n",
      "dtypes: float64(2), int64(5), object(5)\n",
      "memory usage: 83.6+ KB\n",
      "None\n",
      "       PassengerId    Survived      Pclass         Age       SibSp  \\\n",
      "count   891.000000  891.000000  891.000000  714.000000  891.000000   \n",
      "mean    446.000000    0.383838    2.308642   29.699118    0.523008   \n",
      "std     257.353842    0.486592    0.836071   14.526497    1.102743   \n",
      "min       1.000000    0.000000    1.000000    0.420000    0.000000   \n",
      "25%     223.500000    0.000000    2.000000   20.125000    0.000000   \n",
      "50%     446.000000    0.000000    3.000000   28.000000    0.000000   \n",
      "75%     668.500000    1.000000    3.000000   38.000000    1.000000   \n",
      "max     891.000000    1.000000    3.000000   80.000000    8.000000   \n",
      "\n",
      "            Parch        Fare  \n",
      "count  891.000000  891.000000  \n",
      "mean     0.381594   32.204208  \n",
      "std      0.806057   49.693429  \n",
      "min      0.000000    0.000000  \n",
      "25%      0.000000    7.910400  \n",
      "50%      0.000000   14.454200  \n",
      "75%      0.000000   31.000000  \n",
      "max      6.000000  512.329200  \n",
      " Total Null values: 866\n",
      " Columns with Null Values: Age         177\n",
      "Cabin       687\n",
      "Embarked      2\n",
      "dtype: int64\n"
     ]
    }
   ],
   "source": [
    "# 3. Explore Data\n",
    "\n",
    "print(f\" Shape of Data Set: {train.shape}\")\n",
    "print(train.info())\n",
    "print(train.describe())\n",
    "print(f\" Total Null values: {train.isnull().sum().sum()}\")\n",
    "null_values = train.isnull().sum()\n",
    "columns_with_null_values = null_values[null_values > 0]\n",
    "print(f\" Columns with Null Values: {columns_with_null_values}\")"
   ]
  },
  {
   "cell_type": "code",
   "execution_count": 4,
   "metadata": {},
   "outputs": [
    {
     "data": {
      "text/html": [
       "<div>\n",
       "<style scoped>\n",
       "    .dataframe tbody tr th:only-of-type {\n",
       "        vertical-align: middle;\n",
       "    }\n",
       "\n",
       "    .dataframe tbody tr th {\n",
       "        vertical-align: top;\n",
       "    }\n",
       "\n",
       "    .dataframe thead th {\n",
       "        text-align: right;\n",
       "    }\n",
       "</style>\n",
       "<table border=\"1\" class=\"dataframe\">\n",
       "  <thead>\n",
       "    <tr style=\"text-align: right;\">\n",
       "      <th></th>\n",
       "      <th>PassengerId</th>\n",
       "      <th>Survived</th>\n",
       "      <th>Pclass</th>\n",
       "      <th>Age</th>\n",
       "      <th>SibSp</th>\n",
       "      <th>Parch</th>\n",
       "      <th>Fare</th>\n",
       "    </tr>\n",
       "    <tr>\n",
       "      <th>Cabin</th>\n",
       "      <th></th>\n",
       "      <th></th>\n",
       "      <th></th>\n",
       "      <th></th>\n",
       "      <th></th>\n",
       "      <th></th>\n",
       "      <th></th>\n",
       "    </tr>\n",
       "  </thead>\n",
       "  <tbody>\n",
       "    <tr>\n",
       "      <th>A10</th>\n",
       "      <td>584</td>\n",
       "      <td>0</td>\n",
       "      <td>1</td>\n",
       "      <td>36.0</td>\n",
       "      <td>0</td>\n",
       "      <td>0</td>\n",
       "      <td>40.1250</td>\n",
       "    </tr>\n",
       "    <tr>\n",
       "      <th>A14</th>\n",
       "      <td>476</td>\n",
       "      <td>0</td>\n",
       "      <td>1</td>\n",
       "      <td>0.0</td>\n",
       "      <td>0</td>\n",
       "      <td>0</td>\n",
       "      <td>52.0000</td>\n",
       "    </tr>\n",
       "    <tr>\n",
       "      <th>A16</th>\n",
       "      <td>557</td>\n",
       "      <td>1</td>\n",
       "      <td>1</td>\n",
       "      <td>48.0</td>\n",
       "      <td>1</td>\n",
       "      <td>0</td>\n",
       "      <td>39.6000</td>\n",
       "    </tr>\n",
       "    <tr>\n",
       "      <th>A19</th>\n",
       "      <td>285</td>\n",
       "      <td>0</td>\n",
       "      <td>1</td>\n",
       "      <td>0.0</td>\n",
       "      <td>0</td>\n",
       "      <td>0</td>\n",
       "      <td>26.0000</td>\n",
       "    </tr>\n",
       "    <tr>\n",
       "      <th>A20</th>\n",
       "      <td>600</td>\n",
       "      <td>1</td>\n",
       "      <td>1</td>\n",
       "      <td>49.0</td>\n",
       "      <td>1</td>\n",
       "      <td>0</td>\n",
       "      <td>56.9292</td>\n",
       "    </tr>\n",
       "  </tbody>\n",
       "</table>\n",
       "</div>"
      ],
      "text/plain": [
       "       PassengerId  Survived  Pclass   Age  SibSp  Parch     Fare\n",
       "Cabin                                                            \n",
       "A10            584         0       1  36.0      0      0  40.1250\n",
       "A14            476         0       1   0.0      0      0  52.0000\n",
       "A16            557         1       1  48.0      1      0  39.6000\n",
       "A19            285         0       1   0.0      0      0  26.0000\n",
       "A20            600         1       1  49.0      1      0  56.9292"
      ]
     },
     "execution_count": 4,
     "metadata": {},
     "output_type": "execute_result"
    }
   ],
   "source": [
    "train.groupby(['Cabin']).sum().head()"
   ]
  },
  {
   "cell_type": "code",
   "execution_count": 5,
   "metadata": {},
   "outputs": [
    {
     "data": {
      "text/html": [
       "<div>\n",
       "<style scoped>\n",
       "    .dataframe tbody tr th:only-of-type {\n",
       "        vertical-align: middle;\n",
       "    }\n",
       "\n",
       "    .dataframe tbody tr th {\n",
       "        vertical-align: top;\n",
       "    }\n",
       "\n",
       "    .dataframe thead th {\n",
       "        text-align: right;\n",
       "    }\n",
       "</style>\n",
       "<table border=\"1\" class=\"dataframe\">\n",
       "  <thead>\n",
       "    <tr style=\"text-align: right;\">\n",
       "      <th></th>\n",
       "      <th>PassengerId</th>\n",
       "      <th>Survived</th>\n",
       "      <th>Pclass</th>\n",
       "      <th>Age</th>\n",
       "      <th>SibSp</th>\n",
       "      <th>Parch</th>\n",
       "      <th>Fare</th>\n",
       "    </tr>\n",
       "    <tr>\n",
       "      <th>Embarked</th>\n",
       "      <th></th>\n",
       "      <th></th>\n",
       "      <th></th>\n",
       "      <th></th>\n",
       "      <th></th>\n",
       "      <th></th>\n",
       "      <th></th>\n",
       "    </tr>\n",
       "  </thead>\n",
       "  <tbody>\n",
       "    <tr>\n",
       "      <th>C</th>\n",
       "      <td>74820</td>\n",
       "      <td>93</td>\n",
       "      <td>317</td>\n",
       "      <td>4005.92</td>\n",
       "      <td>65</td>\n",
       "      <td>61</td>\n",
       "      <td>10072.2962</td>\n",
       "    </tr>\n",
       "    <tr>\n",
       "      <th>Q</th>\n",
       "      <td>32178</td>\n",
       "      <td>30</td>\n",
       "      <td>224</td>\n",
       "      <td>786.50</td>\n",
       "      <td>33</td>\n",
       "      <td>13</td>\n",
       "      <td>1022.2543</td>\n",
       "    </tr>\n",
       "    <tr>\n",
       "      <th>S</th>\n",
       "      <td>289496</td>\n",
       "      <td>217</td>\n",
       "      <td>1514</td>\n",
       "      <td>16312.75</td>\n",
       "      <td>368</td>\n",
       "      <td>266</td>\n",
       "      <td>17439.3988</td>\n",
       "    </tr>\n",
       "  </tbody>\n",
       "</table>\n",
       "</div>"
      ],
      "text/plain": [
       "          PassengerId  Survived  Pclass       Age  SibSp  Parch        Fare\n",
       "Embarked                                                                   \n",
       "C               74820        93     317   4005.92     65     61  10072.2962\n",
       "Q               32178        30     224    786.50     33     13   1022.2543\n",
       "S              289496       217    1514  16312.75    368    266  17439.3988"
      ]
     },
     "execution_count": 5,
     "metadata": {},
     "output_type": "execute_result"
    }
   ],
   "source": [
    "train.groupby(['Embarked']).sum()"
   ]
  },
  {
   "cell_type": "code",
   "execution_count": 6,
   "metadata": {},
   "outputs": [],
   "source": [
    "# layout = go.Layout(\n",
    "# #     barmode='stack',\n",
    "#     autosize=True,\n",
    "#     title=\"Gender of Survivors v. Deceased\", \n",
    "#     xaxis={'title':'Gender'}, \n",
    "#     yaxis={'title':'Count'})\n",
    "\n",
    "# #      Valid attributes for Layout:\n",
    "\n",
    "# #     'angularaxis', 'annotations', 'autosize', 'bargap', 'bargroupgap',\n",
    "# #     'barmode', 'barnorm', 'boxgap', 'boxgroupgap', 'boxmode', 'calendar',\n",
    "# #     'colorway', 'datarevision', 'direction', 'dragmode', 'font', 'geo',\n",
    "# #     'grid', 'height', 'hiddenlabels', 'hiddenlabelssrc', 'hidesources',\n",
    "# #     'hoverdistance', 'hoverlabel', 'hovermode', 'images', 'legend',\n",
    "# #     'mapbox', 'margin', 'orientation', 'paper_bgcolor', 'plot_bgcolor',\n",
    "# #     'polar', 'radialaxis', 'scene', 'separators', 'shapes', 'showlegend',\n",
    "# #     'sliders', 'spikedistance', 'ternary', 'title', 'titlefont',\n",
    "# #     'updatemenus', 'violingap', 'violingroupgap', 'violinmode', 'width',\n",
    "# #     'xaxis', 'yaxis'\n",
    "\n",
    "# trace1 = go.Bar(x=train[train.Survived == 1]['Sex'].value_counts().index.values, \n",
    "#                 y=train[train.Survived == 1]['Sex'].value_counts().values,\n",
    "#                 name='Survivors',\n",
    "#                marker={'color': 'rgb(0, 128, 255)'})\n",
    "\n",
    "# trace2 = go.Bar(x=train[train.Survived == 0]['Sex'].value_counts().index.values, \n",
    "#                 y=train[train.Survived == 0]['Sex'].value_counts().values,\n",
    "#                 name='Deceased',\n",
    "#                marker={'color': 'rgb(0, 0, 102)'})\n",
    "\n",
    "\n",
    "# # Valid attributes for Barplot:\n",
    "\n",
    "# data = [trace1, trace2]\n",
    "\n",
    "# fig = go.Figure(data=data, layout=layout)\n",
    "\n",
    "# py.iplot(fig)"
   ]
  },
  {
   "cell_type": "code",
   "execution_count": 7,
   "metadata": {},
   "outputs": [],
   "source": [
    "# layout = go.Layout(\n",
    "# #     barmode='stack',\n",
    "#     autosize=True,\n",
    "#     title=\"Age of Survivors v. Deceased\", \n",
    "#     xaxis={'title':'Age', 'range': [0, 91, 10]}, \n",
    "#     yaxis={'title':'Count',\n",
    "#           'range' : [0, 30, 1]})\n",
    "\n",
    "# #      Valid attributes for Layout:\n",
    "\n",
    "# #     'angularaxis', 'annotations', 'autosize', 'bargap', 'bargroupgap',\n",
    "# #     'barmode', 'barnorm', 'boxgap', 'boxgroupgap', 'boxmode', 'calendar',\n",
    "# #     'colorway', 'datarevision', 'direction', 'dragmode', 'font', 'geo',\n",
    "# #     'grid', 'height', 'hiddenlabels', 'hiddenlabelssrc', 'hidesources',\n",
    "# #     'hoverdistance', 'hoverlabel', 'hovermode', 'images', 'legend',\n",
    "# #     'mapbox', 'margin', 'orientation', 'paper_bgcolor', 'plot_bgcolor',\n",
    "# #     'polar', 'radialaxis', 'scene', 'separators', 'shapes', 'showlegend',\n",
    "# #     'sliders', 'spikedistance', 'ternary', 'title', 'titlefont',\n",
    "# #     'updatemenus', 'violingap', 'violingroupgap', 'violinmode', 'width',\n",
    "# #     'xaxis', 'yaxis'\n",
    "\n",
    "# trace1 = go.Histogram(x=titanic[titanic.Survived == 1]['Age'].value_counts().index.values, \n",
    "#                 y=titanic[titanic.Survived == 1]['Age'].value_counts().values,\n",
    "#                 name='Survivors',\n",
    "#                marker={'color': 'rgb(0, 128, 255)'},\n",
    "#                autobinx=False,\n",
    "#                 xbins={'start': 0, 'end': 91, 'size': 10})\n",
    "\n",
    "# trace2 = go.Histogram(x=titanic[titanic.Survived == 0]['Age'].value_counts().index.values, \n",
    "#                       y=titanic[titanic.Survived == 0]['Age'].value_counts().values,\n",
    "#                       name='Deceased',\n",
    "#                       marker={'color': 'rgb(0, 0, 102)'},\n",
    "#                       autobinx=False,\n",
    "#                       xbins={'start': 0, 'end': 91, 'size': 10})\n",
    "\n",
    "# # Valid attributes for Barplot:\n",
    "\n",
    "# data = [trace1, trace2]\n",
    "\n",
    "# fig = go.Figure(data=data, layout=layout)\n",
    "\n",
    "# py.iplot(fig)"
   ]
  },
  {
   "cell_type": "code",
   "execution_count": null,
   "metadata": {},
   "outputs": [],
   "source": []
  },
  {
   "cell_type": "code",
   "execution_count": 8,
   "metadata": {},
   "outputs": [],
   "source": [
    "# 4. Clean Data\n",
    "\n",
    "train_obj = train.select_dtypes(exclude=[np.number])\n",
    "train_num = train.select_dtypes(include=[np.number])\n",
    "\n",
    "# Drop the 2 rows were values are missing from Embarked\n",
    "\n",
    "train.dropna(axis=0, subset=['Embarked'], inplace=True)\n",
    "\n",
    "# Fill NaN Ages with the mean\n",
    "\n",
    "train['Age'] = train['Age'].fillna(train.Age.mean())\n",
    "\n",
    "# Fill NaN Cabin with 'Unidentified'\n",
    "\n",
    "train.Cabin.fillna('Unidentified', inplace=True)"
   ]
  },
  {
   "cell_type": "code",
   "execution_count": 9,
   "metadata": {},
   "outputs": [],
   "source": [
    "# train['Master'] = train['Name'].map(lambda x: 1 if 'Master' in x else 0)\n",
    "# male_child = train[train['Master'] == 1]\n",
    "# print(male_child['Age'].mean())\n",
    "\n",
    "# print(male_child.Age[male_child['Age'].isnull()])"
   ]
  },
  {
   "cell_type": "code",
   "execution_count": 10,
   "metadata": {},
   "outputs": [],
   "source": [
    "# 5. Feature Engineering\n",
    "\n",
    "train['Cabin_category'] = train['Cabin'].map(lambda x: x[:1])\n",
    "\n",
    "train = train.drop('Cabin', axis=1)\n",
    "\n",
    "train['IsReverend'] = train['Name'].map(lambda x: 1 if 'Rev' in x else 0)\n",
    "\n",
    "train.drop(['PassengerId', 'Name', 'Ticket'], axis=1, inplace=True)\n",
    "\n",
    "train = pd.concat([train, pd.get_dummies(train['Sex'])], axis = 1)\n",
    "\n",
    "train.drop(['Sex'], axis=1, inplace=True)\n",
    "\n",
    "train = pd.concat([train, pd.get_dummies(train['Embarked'])], axis = 1)\n",
    "\n",
    "train.drop(['Embarked'], axis=1, inplace=True)\n",
    "\n",
    "train = pd.concat([train, pd.get_dummies(train['Cabin_category'])], axis = 1)\n",
    "\n",
    "train.drop(['Cabin_category'], axis=1, inplace=True)\n",
    "\n",
    "train['FamilyCount'] = train['SibSp'] + train['Parch']"
   ]
  },
  {
   "cell_type": "code",
   "execution_count": 11,
   "metadata": {},
   "outputs": [
    {
     "data": {
      "text/plain": [
       "Index(['Survived', 'Pclass', 'Age', 'SibSp', 'Parch', 'Fare', 'IsReverend',\n",
       "       'female', 'male', 'C', 'Q', 'S', 'A', 'B', 'C', 'D', 'E', 'F', 'G', 'T',\n",
       "       'U', 'FamilyCount'],\n",
       "      dtype='object')"
      ]
     },
     "execution_count": 11,
     "metadata": {},
     "output_type": "execute_result"
    }
   ],
   "source": [
    "train.columns"
   ]
  },
  {
   "cell_type": "code",
   "execution_count": 12,
   "metadata": {},
   "outputs": [
    {
     "data": {
      "text/plain": [
       "Survived       0\n",
       "Pclass         0\n",
       "Age            0\n",
       "SibSp          0\n",
       "Parch          0\n",
       "Fare           0\n",
       "IsReverend     0\n",
       "female         0\n",
       "male           0\n",
       "C              0\n",
       "Q              0\n",
       "S              0\n",
       "A              0\n",
       "B              0\n",
       "C              0\n",
       "D              0\n",
       "E              0\n",
       "F              0\n",
       "G              0\n",
       "T              0\n",
       "U              0\n",
       "FamilyCount    0\n",
       "dtype: int64"
      ]
     },
     "execution_count": 12,
     "metadata": {},
     "output_type": "execute_result"
    }
   ],
   "source": [
    "train.isnull().sum()"
   ]
  },
  {
   "cell_type": "code",
   "execution_count": 13,
   "metadata": {},
   "outputs": [
    {
     "data": {
      "text/plain": [
       "Index(['Survived', 'Pclass', 'Age', 'SibSp', 'Parch', 'Fare', 'IsReverend',\n",
       "       'female', 'male', 'C', 'Q', 'S', 'A', 'B', 'D', 'E', 'F', 'G', 'T', 'U',\n",
       "       'FamilyCount'],\n",
       "      dtype='object')"
      ]
     },
     "execution_count": 13,
     "metadata": {},
     "output_type": "execute_result"
    }
   ],
   "source": [
    "train.columns.unique()"
   ]
  },
  {
   "cell_type": "code",
   "execution_count": 21,
   "metadata": {},
   "outputs": [],
   "source": [
    "# Train-Train-Split on Data Set\n",
    "\n",
    "from sklearn.model_selection import train_test_split, KFold, cross_val_score\n",
    "from sklearn.preprocessing import PolynomialFeatures, StandardScaler\n",
    "\n",
    "target = ['Survived']\n",
    "not_target = ['Pclass', 'Age', 'SibSp', 'Parch', 'Fare', 'IsReverend',\n",
    "       'female', 'male', 'C', 'Q', 'S', 'A', 'B', 'D', 'E', 'F', 'G', 'T', 'U',\n",
    "       'FamilyCount']\n",
    "\n",
    "X = train[not_target]\n",
    "Y = train[target]\n",
    "\n",
    "X_train, X_test, Y_train, Y_test = train_test_split(X, Y, random_state=42)\n",
    "\n"
   ]
  },
  {
   "cell_type": "code",
   "execution_count": 22,
   "metadata": {},
   "outputs": [],
   "source": [
    "# Polynomialize Features\n",
    "\n",
    "from sklearn.preprocessing import PolynomialFeatures, StandardScaler\n",
    "from sklearn.model_selection import train_test_split, KFold, cross_val_score\n",
    "\n",
    "target = ['Survived']\n",
    "not_target = ['Pclass', 'Age', 'SibSp', 'Parch', 'Fare', 'IsReverend',\n",
    "       'female', 'male', 'C', 'Q', 'S', 'A', 'B', 'D', 'E', 'F', 'G', 'T', 'U',\n",
    "       'FamilyCount']\n",
    "\n",
    "X = train[not_target]\n",
    "Y = train[target]\n",
    "\n",
    "pf = PolynomialFeatures(degree=2, interaction_only=True, include_bias=False)\n",
    "model = pf.fit(X_train)\n",
    "X_train = pf.transform(X_train)\n",
    "X_test = pf.transform(X_test)"
   ]
  },
  {
   "cell_type": "code",
   "execution_count": 25,
   "metadata": {},
   "outputs": [
    {
     "data": {
      "text/plain": [
       "231"
      ]
     },
     "execution_count": 25,
     "metadata": {},
     "output_type": "execute_result"
    }
   ],
   "source": [
    "pf.get_feature_names(X.columns)"
   ]
  },
  {
   "cell_type": "code",
   "execution_count": 30,
   "metadata": {},
   "outputs": [
    {
     "name": "stdout",
     "output_type": "stream",
     "text": [
      "<class 'pandas.core.frame.DataFrame'>\n",
      "Int64Index: 889 entries, 0 to 890\n",
      "Data columns (total 21 columns):\n",
      "Pclass         889 non-null int64\n",
      "Age            889 non-null float64\n",
      "SibSp          889 non-null int64\n",
      "Parch          889 non-null int64\n",
      "Fare           889 non-null float64\n",
      "IsReverend     889 non-null int64\n",
      "female         889 non-null uint8\n",
      "male           889 non-null uint8\n",
      "C              889 non-null uint8\n",
      "C              889 non-null uint8\n",
      "Q              889 non-null uint8\n",
      "S              889 non-null uint8\n",
      "A              889 non-null uint8\n",
      "B              889 non-null uint8\n",
      "D              889 non-null uint8\n",
      "E              889 non-null uint8\n",
      "F              889 non-null uint8\n",
      "G              889 non-null uint8\n",
      "T              889 non-null uint8\n",
      "U              889 non-null uint8\n",
      "FamilyCount    889 non-null int64\n",
      "dtypes: float64(2), int64(5), uint8(14)\n",
      "memory usage: 67.7 KB\n"
     ]
    }
   ],
   "source": [
    "X.info()"
   ]
  },
  {
   "cell_type": "code",
   "execution_count": 26,
   "metadata": {},
   "outputs": [
    {
     "ename": "TypeError",
     "evalue": "'<=' not supported between instances of 'int' and 'builtin_function_or_method'",
     "output_type": "error",
     "traceback": [
      "\u001b[0;31m---------------------------------------------------------------------------\u001b[0m",
      "\u001b[0;31mTypeError\u001b[0m                                 Traceback (most recent call last)",
      "\u001b[0;32m<ipython-input-26-6e686e8912a1>\u001b[0m in \u001b[0;36m<module>\u001b[0;34m()\u001b[0m\n\u001b[1;32m     10\u001b[0m \u001b[0mpredictors\u001b[0m \u001b[0;34m=\u001b[0m \u001b[0mnot_target\u001b[0m\u001b[0;34m\u001b[0m\u001b[0m\n\u001b[1;32m     11\u001b[0m \u001b[0;34m\u001b[0m\u001b[0m\n\u001b[0;32m---> 12\u001b[0;31m \u001b[0mselector\u001b[0m\u001b[0;34m.\u001b[0m\u001b[0mfit\u001b[0m\u001b[0;34m(\u001b[0m\u001b[0mtrain\u001b[0m\u001b[0;34m[\u001b[0m\u001b[0mpredictors\u001b[0m\u001b[0;34m]\u001b[0m\u001b[0;34m,\u001b[0m \u001b[0mtrain\u001b[0m\u001b[0;34m[\u001b[0m\u001b[0mtarget\u001b[0m\u001b[0;34m]\u001b[0m\u001b[0;34m)\u001b[0m\u001b[0;34m\u001b[0m\u001b[0m\n\u001b[0m\u001b[1;32m     13\u001b[0m \u001b[0;34m\u001b[0m\u001b[0m\n\u001b[1;32m     14\u001b[0m \u001b[0mbest_features\u001b[0m \u001b[0;34m=\u001b[0m \u001b[0mselector\u001b[0m\u001b[0;34m.\u001b[0m\u001b[0mget_support\u001b[0m\u001b[0;34m(\u001b[0m\u001b[0mindices\u001b[0m\u001b[0;34m=\u001b[0m\u001b[0;32mTrue\u001b[0m\u001b[0;34m)\u001b[0m\u001b[0;34m\u001b[0m\u001b[0m\n",
      "\u001b[0;32m/anaconda3/lib/python3.6/site-packages/sklearn/feature_selection/univariate_selection.py\u001b[0m in \u001b[0;36mfit\u001b[0;34m(self, X, y)\u001b[0m\n\u001b[1;32m    346\u001b[0m                             % (self.score_func, type(self.score_func)))\n\u001b[1;32m    347\u001b[0m \u001b[0;34m\u001b[0m\u001b[0m\n\u001b[0;32m--> 348\u001b[0;31m         \u001b[0mself\u001b[0m\u001b[0;34m.\u001b[0m\u001b[0m_check_params\u001b[0m\u001b[0;34m(\u001b[0m\u001b[0mX\u001b[0m\u001b[0;34m,\u001b[0m \u001b[0my\u001b[0m\u001b[0;34m)\u001b[0m\u001b[0;34m\u001b[0m\u001b[0m\n\u001b[0m\u001b[1;32m    349\u001b[0m         \u001b[0mscore_func_ret\u001b[0m \u001b[0;34m=\u001b[0m \u001b[0mself\u001b[0m\u001b[0;34m.\u001b[0m\u001b[0mscore_func\u001b[0m\u001b[0;34m(\u001b[0m\u001b[0mX\u001b[0m\u001b[0;34m,\u001b[0m \u001b[0my\u001b[0m\u001b[0;34m)\u001b[0m\u001b[0;34m\u001b[0m\u001b[0m\n\u001b[1;32m    350\u001b[0m         \u001b[0;32mif\u001b[0m \u001b[0misinstance\u001b[0m\u001b[0;34m(\u001b[0m\u001b[0mscore_func_ret\u001b[0m\u001b[0;34m,\u001b[0m \u001b[0;34m(\u001b[0m\u001b[0mlist\u001b[0m\u001b[0;34m,\u001b[0m \u001b[0mtuple\u001b[0m\u001b[0;34m)\u001b[0m\u001b[0;34m)\u001b[0m\u001b[0;34m:\u001b[0m\u001b[0;34m\u001b[0m\u001b[0m\n",
      "\u001b[0;32m/anaconda3/lib/python3.6/site-packages/sklearn/feature_selection/univariate_selection.py\u001b[0m in \u001b[0;36m_check_params\u001b[0;34m(self, X, y)\u001b[0m\n\u001b[1;32m    488\u001b[0m \u001b[0;34m\u001b[0m\u001b[0m\n\u001b[1;32m    489\u001b[0m     \u001b[0;32mdef\u001b[0m \u001b[0m_check_params\u001b[0m\u001b[0;34m(\u001b[0m\u001b[0mself\u001b[0m\u001b[0;34m,\u001b[0m \u001b[0mX\u001b[0m\u001b[0;34m,\u001b[0m \u001b[0my\u001b[0m\u001b[0;34m)\u001b[0m\u001b[0;34m:\u001b[0m\u001b[0;34m\u001b[0m\u001b[0m\n\u001b[0;32m--> 490\u001b[0;31m         \u001b[0;32mif\u001b[0m \u001b[0;32mnot\u001b[0m \u001b[0;34m(\u001b[0m\u001b[0mself\u001b[0m\u001b[0;34m.\u001b[0m\u001b[0mk\u001b[0m \u001b[0;34m==\u001b[0m \u001b[0;34m\"all\"\u001b[0m \u001b[0;32mor\u001b[0m \u001b[0;36m0\u001b[0m \u001b[0;34m<=\u001b[0m \u001b[0mself\u001b[0m\u001b[0;34m.\u001b[0m\u001b[0mk\u001b[0m \u001b[0;34m<=\u001b[0m \u001b[0mX\u001b[0m\u001b[0;34m.\u001b[0m\u001b[0mshape\u001b[0m\u001b[0;34m[\u001b[0m\u001b[0;36m1\u001b[0m\u001b[0;34m]\u001b[0m\u001b[0;34m)\u001b[0m\u001b[0;34m:\u001b[0m\u001b[0;34m\u001b[0m\u001b[0m\n\u001b[0m\u001b[1;32m    491\u001b[0m             raise ValueError(\"k should be >=0, <= n_features; got %r.\"\n\u001b[1;32m    492\u001b[0m                              \u001b[0;34m\"Use k='all' to return all features.\"\u001b[0m\u001b[0;34m\u001b[0m\u001b[0m\n",
      "\u001b[0;31mTypeError\u001b[0m: '<=' not supported between instances of 'int' and 'builtin_function_or_method'"
     ]
    }
   ],
   "source": [
    "# Feature Selection\n",
    "\n",
    "from sklearn.feature_selection import  SelectKBest, f_regression, f_classif\n",
    "selector = SelectKBest(score_func=f_regression, k=all)\n",
    "\n",
    "target = ['Survived']\n",
    "not_target = ['Pclass', 'Age', 'SibSp', 'Parch', 'Fare', 'female', 'male',\n",
    "       'C', 'Q', 'S', 'A', 'B', 'D', 'E', 'F', 'G', 'T', 'U']\n",
    "\n",
    "predictors = not_target\n",
    "\n",
    "selector.fit(train[predictors], train[target])\n",
    "\n",
    "best_features = selector.get_support(indices=True)\n",
    "\n",
    "features = list(train[predictors].columns[selector.get_support(indices = True)])\n",
    "features"
   ]
  },
  {
   "cell_type": "code",
   "execution_count": 31,
   "metadata": {},
   "outputs": [],
   "source": [
    "# Standard Scaler\n",
    "\n",
    "ss = StandardScaler()\n",
    "X_train_scaled = ss.fit_transform(X_train)\n",
    "X_test_scaled = ss.transform(X_test)"
   ]
  },
  {
   "cell_type": "code",
   "execution_count": 32,
   "metadata": {},
   "outputs": [
    {
     "name": "stderr",
     "output_type": "stream",
     "text": [
      "/anaconda3/lib/python3.6/site-packages/sklearn/utils/validation.py:578: DataConversionWarning:\n",
      "\n",
      "A column-vector y was passed when a 1d array was expected. Please change the shape of y to (n_samples, ), for example using ravel().\n",
      "\n"
     ]
    },
    {
     "name": "stdout",
     "output_type": "stream",
     "text": [
      " LogReg_Train = 0.8633633633633634\n",
      " LogReg_Test = 0.8161434977578476\n"
     ]
    }
   ],
   "source": [
    "# Logistic Regression Model with Poly, Lasso with alpha = 1\n",
    "\n",
    "from sklearn.linear_model import LogisticRegression\n",
    "\n",
    "logreg = LogisticRegression(penalty='l1', C=1.0)\n",
    "model = logreg.fit(X_train_scaled, Y_train)\n",
    "print(f\" LogReg_Train = {model.score(X_train_scaled, Y_train)}\")\n",
    "print(f\" LogReg_Test = {model.score(X_test_scaled, Y_test)}\")"
   ]
  },
  {
   "cell_type": "code",
   "execution_count": 45,
   "metadata": {},
   "outputs": [
    {
     "ename": "AttributeError",
     "evalue": "'KNeighborsClassifier' object has no attribute 'coef_'",
     "output_type": "error",
     "traceback": [
      "\u001b[0;31m---------------------------------------------------------------------------\u001b[0m",
      "\u001b[0;31mAttributeError\u001b[0m                            Traceback (most recent call last)",
      "\u001b[0;32m<ipython-input-45-4650e3f7c16c>\u001b[0m in \u001b[0;36m<module>\u001b[0;34m()\u001b[0m\n\u001b[0;32m----> 1\u001b[0;31m \u001b[0mmodel\u001b[0m\u001b[0;34m.\u001b[0m\u001b[0mcoef_\u001b[0m\u001b[0;34m\u001b[0m\u001b[0m\n\u001b[0m",
      "\u001b[0;31mAttributeError\u001b[0m: 'KNeighborsClassifier' object has no attribute 'coef_'"
     ]
    }
   ],
   "source": [
    "model.coef_"
   ]
  },
  {
   "cell_type": "code",
   "execution_count": 23,
   "metadata": {},
   "outputs": [
    {
     "name": "stdout",
     "output_type": "stream",
     "text": [
      " LogReg_Train = 0.7597597597597597\n",
      " LogReg_Test = 0.757847533632287\n"
     ]
    },
    {
     "name": "stderr",
     "output_type": "stream",
     "text": [
      "/anaconda3/lib/python3.6/site-packages/sklearn/utils/validation.py:578: DataConversionWarning:\n",
      "\n",
      "A column-vector y was passed when a 1d array was expected. Please change the shape of y to (n_samples, ), for example using ravel().\n",
      "\n"
     ]
    }
   ],
   "source": [
    "# Logistic Regression Model, Lasso with alpha = 10\n",
    "\n",
    "logreg = LogisticRegression(penalty='l1', C=10.0)\n",
    "model = logreg.fit(X_train, Y_train)\n",
    "print(f\" LogReg_Train = {model.score(X_train_scaled, Y_train)}\")\n",
    "print(f\" LogReg_Test = {model.score(X_test_scaled, Y_test)}\")"
   ]
  },
  {
   "cell_type": "code",
   "execution_count": 21,
   "metadata": {},
   "outputs": [
    {
     "name": "stdout",
     "output_type": "stream",
     "text": [
      " LogReg_Train = 0.7402402402402403\n",
      " LogReg_Test = 0.7309417040358744\n"
     ]
    },
    {
     "name": "stderr",
     "output_type": "stream",
     "text": [
      "/anaconda3/lib/python3.6/site-packages/sklearn/utils/validation.py:578: DataConversionWarning:\n",
      "\n",
      "A column-vector y was passed when a 1d array was expected. Please change the shape of y to (n_samples, ), for example using ravel().\n",
      "\n"
     ]
    }
   ],
   "source": [
    "# Logistic Regression Model, Ridge with alpha = 1\n",
    "\n",
    "logreg = LogisticRegression(penalty='l2', C=1.0)\n",
    "model = logreg.fit(X_train, Y_train)\n",
    "print(f\" LogReg_Train = {model.score(X_train_scaled, Y_train)}\")\n",
    "print(f\" LogReg_Test = {model.score(X_test_scaled, Y_test)}\")"
   ]
  },
  {
   "cell_type": "code",
   "execution_count": 24,
   "metadata": {},
   "outputs": [
    {
     "name": "stderr",
     "output_type": "stream",
     "text": [
      "/anaconda3/lib/python3.6/site-packages/sklearn/utils/validation.py:578: DataConversionWarning:\n",
      "\n",
      "A column-vector y was passed when a 1d array was expected. Please change the shape of y to (n_samples, ), for example using ravel().\n",
      "\n"
     ]
    },
    {
     "name": "stdout",
     "output_type": "stream",
     "text": [
      " LogReg_Train = 0.7627627627627628\n",
      " LogReg_Test = 0.7623318385650224\n"
     ]
    }
   ],
   "source": [
    "# Logistic Regression Model, Ridge with alpha = 10\n",
    "\n",
    "logreg = LogisticRegression(penalty='l2', C=10.0)\n",
    "model = logreg.fit(X_train, Y_train)\n",
    "print(f\" LogReg_Train = {model.score(X_train_scaled, Y_train)}\")\n",
    "print(f\" LogReg_Test = {model.score(X_test_scaled, Y_test)}\")"
   ]
  },
  {
   "cell_type": "code",
   "execution_count": 27,
   "metadata": {},
   "outputs": [
    {
     "name": "stderr",
     "output_type": "stream",
     "text": [
      "/anaconda3/lib/python3.6/site-packages/ipykernel/__main__.py:8: DataConversionWarning:\n",
      "\n",
      "A column-vector y was passed when a 1d array was expected. Please change the shape of y to (n_samples, ), for example using ravel().\n",
      "\n"
     ]
    },
    {
     "name": "stdout",
     "output_type": "stream",
     "text": [
      " KNN3 (Train) = 0.8738738738738738\n",
      " KNN3 (Test) = 0.757847533632287\n"
     ]
    }
   ],
   "source": [
    "# KNN Classification\n",
    "\n",
    "from sklearn.neighbors import KNeighborsClassifier\n",
    "\n",
    "# KNN = 3\n",
    "\n",
    "knn = KNeighborsClassifier(n_neighbors=3)\n",
    "model = knn.fit(X_train_scaled, Y_train)\n",
    "print(f\" KNN3 (Train) = {model.score(X_train_scaled, Y_train)}\")\n",
    "print(f\" KNN3 (Test) = {model.score(X_test_scaled, Y_test)}\")"
   ]
  },
  {
   "cell_type": "code",
   "execution_count": 28,
   "metadata": {},
   "outputs": [
    {
     "name": "stderr",
     "output_type": "stream",
     "text": [
      "/anaconda3/lib/python3.6/site-packages/ipykernel/__main__.py:4: DataConversionWarning:\n",
      "\n",
      "A column-vector y was passed when a 1d array was expected. Please change the shape of y to (n_samples, ), for example using ravel().\n",
      "\n"
     ]
    },
    {
     "name": "stdout",
     "output_type": "stream",
     "text": [
      " KNN5 (Train) = 0.8558558558558559\n",
      " KNN5 (Test) = 0.7713004484304933\n"
     ]
    }
   ],
   "source": [
    "# KNN = 5\n",
    "\n",
    "knn = KNeighborsClassifier(n_neighbors=5)\n",
    "model = knn.fit(X_train_scaled, Y_train)\n",
    "print(f\" KNN5 (Train) = {model.score(X_train_scaled, Y_train)}\")\n",
    "print(f\" KNN5 (Test) = {model.score(X_test_scaled, Y_test)}\")"
   ]
  },
  {
   "cell_type": "code",
   "execution_count": 29,
   "metadata": {},
   "outputs": [
    {
     "name": "stderr",
     "output_type": "stream",
     "text": [
      "/anaconda3/lib/python3.6/site-packages/ipykernel/__main__.py:4: DataConversionWarning:\n",
      "\n",
      "A column-vector y was passed when a 1d array was expected. Please change the shape of y to (n_samples, ), for example using ravel().\n",
      "\n"
     ]
    },
    {
     "name": "stdout",
     "output_type": "stream",
     "text": [
      " KNN15 (Train) = 0.8453453453453453\n",
      " KNN15 (Test) = 0.7982062780269058\n"
     ]
    }
   ],
   "source": [
    "# KNN = 15\n",
    "\n",
    "knn = KNeighborsClassifier(n_neighbors=15)\n",
    "model = knn.fit(X_train_scaled, Y_train)\n",
    "print(f\" KNN15 (Train) = {model.score(X_train_scaled, Y_train)}\")\n",
    "print(f\" KNN15 (Test) = {model.score(X_test_scaled, Y_test)}\")"
   ]
  },
  {
   "cell_type": "code",
   "execution_count": 33,
   "metadata": {},
   "outputs": [
    {
     "name": "stderr",
     "output_type": "stream",
     "text": [
      "/anaconda3/lib/python3.6/site-packages/ipykernel/__main__.py:6: DataConversionWarning:\n",
      "\n",
      "A column-vector y was passed when a 1d array was expected. Please change the shape of y to (n_samples, ), for example using ravel().\n",
      "\n"
     ]
    },
    {
     "name": "stdout",
     "output_type": "stream",
     "text": [
      " KNN25 (Train) = 0.8033033033033034\n",
      " KNN25 (Test) = 0.8026905829596412\n"
     ]
    }
   ],
   "source": [
    "from sklearn.neighbors import KNeighborsClassifier\n",
    "\n",
    "# KNN = 25\n",
    "\n",
    "knn = KNeighborsClassifier(n_neighbors=25)\n",
    "model = knn.fit(X_train_scaled, Y_train)\n",
    "print(f\" KNN25 (Train) = {model.score(X_train_scaled, Y_train)}\")\n",
    "print(f\" KNN25 (Test) = {model.score(X_test_scaled, Y_test)}\")"
   ]
  },
  {
   "cell_type": "code",
   "execution_count": null,
   "metadata": {},
   "outputs": [],
   "source": []
  }
 ],
 "metadata": {
  "hide_input": false,
  "kernelspec": {
   "display_name": "Python [default]",
   "language": "python",
   "name": "python3"
  },
  "language_info": {
   "codemirror_mode": {
    "name": "ipython",
    "version": 3
   },
   "file_extension": ".py",
   "mimetype": "text/x-python",
   "name": "python",
   "nbconvert_exporter": "python",
   "pygments_lexer": "ipython3",
   "version": "3.6.4"
  }
 },
 "nbformat": 4,
 "nbformat_minor": 2
}
